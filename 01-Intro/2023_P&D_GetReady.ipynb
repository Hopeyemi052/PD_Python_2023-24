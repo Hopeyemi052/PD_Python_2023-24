{
 "cells": [
  {
   "cell_type": "markdown",
   "id": "916bd05d",
   "metadata": {},
   "source": [
    "# Seminar 1 - Hands on Python (Population and Development)\n",
    "\n",
    "Extra material for learning Python:\n",
    "\n",
    "1. W3school --> [link](https://www.w3schools.com/python/default.asp)\n",
    "2. Python documentation --> [link](https://docs.python.org/3/tutorial/)\n",
    "\n",
    "Python IDE:\n",
    "\n",
    "1. [Anaconda (Jupyter notebook)](https://www.anaconda.com/download)\n",
    "2) [Google Colab](https://colab.research.google.com/)"
   ]
  },
  {
   "cell_type": "code",
   "execution_count": null,
   "id": "5704a922",
   "metadata": {},
   "outputs": [],
   "source": [
    "print(\"Hello\")\n",
    "print(1)\n",
    "print ('2'+'2'+'fff')\n",
    "print (1+1)"
   ]
  },
  {
   "cell_type": "markdown",
   "id": "ff836167",
   "metadata": {},
   "source": [
    "#### Values and Types\n",
    "\n",
    "1. A value is one of the basic things a program works with, like a letter or a number.\n",
    "\n",
    "2. The values above are *1, \"2\"* and *“Hello”, \"fff\"*\n",
    "\n",
    "3. These values belong to different types: 1 is an integer, and “Hello” is a string, so called because it contains a “string” of letters.\n",
    "\n",
    "4. Strings are enclosed in quotation marks.\n",
    "\n",
    "5. The print statement also works for integers.\n",
    "\n",
    "6. Python knows the difference between an integer number and a string.\n",
    "\n",
    "7. For example “+” means “addition” if something is a number and “concatenate” if something is a string.\n",
    "\n",
    "8. Python knows what “type” everything is. Some operations are prohibited:\n",
    "\n",
    "9. You cannot add integer \"1” to a string"
   ]
  },
  {
   "cell_type": "code",
   "execution_count": null,
   "id": "cb47ca47",
   "metadata": {},
   "outputs": [],
   "source": [
    "# Checking python version\n",
    "!python --version"
   ]
  },
  {
   "cell_type": "code",
   "execution_count": null,
   "id": "c79fddbf",
   "metadata": {},
   "outputs": [],
   "source": [
    "# Checking a library version\n",
    "import sklearn\n",
    "\n",
    "sklearn.__version__"
   ]
  },
  {
   "cell_type": "markdown",
   "id": "967b7ece",
   "metadata": {},
   "source": [
    "## Import Libraries"
   ]
  },
  {
   "cell_type": "code",
   "execution_count": null,
   "id": "181b98bb",
   "metadata": {},
   "outputs": [],
   "source": [
    "import keyword\n",
    "import sys"
   ]
  },
  {
   "cell_type": "markdown",
   "id": "f0e46f08",
   "metadata": {},
   "source": [
    "## Keywords\n",
    "\n",
    "Keywords are the reserved words in Python and can't be used as an identifier or variables"
   ]
  },
  {
   "cell_type": "code",
   "execution_count": null,
   "id": "16286737",
   "metadata": {},
   "outputs": [],
   "source": [
    "print(keyword.kwlist)  # List of all python keywords"
   ]
  },
  {
   "cell_type": "code",
   "execution_count": null,
   "id": "ca0ac795",
   "metadata": {},
   "outputs": [],
   "source": [
    "len(keyword.kwlist)   # Python contains 36 keywords"
   ]
  },
  {
   "cell_type": "markdown",
   "id": "9d759d12",
   "metadata": {},
   "source": [
    "## Identifiers\n",
    "\n",
    "- Identifier can't start with a digit\n",
    "- Identifier can't use special symbols\n",
    "- Keywords can't be used as identifiers\n",
    "\n",
    "The correct way of defining identifiers are starting with lowercase (a-z) or uppercase (A-Z) followed by numbers."
   ]
  },
  {
   "cell_type": "code",
   "execution_count": null,
   "id": "cf5d9962",
   "metadata": {},
   "outputs": [],
   "source": [
    "1var = 10"
   ]
  },
  {
   "cell_type": "code",
   "execution_count": null,
   "id": "5b276193",
   "metadata": {},
   "outputs": [],
   "source": [
    "val2@ = 35"
   ]
  },
  {
   "cell_type": "code",
   "execution_count": null,
   "id": "afca05d3",
   "metadata": {},
   "outputs": [],
   "source": [
    "import = 125"
   ]
  },
  {
   "cell_type": "code",
   "execution_count": null,
   "id": "f9513b37",
   "metadata": {},
   "outputs": [],
   "source": [
    "val2 = 10\n",
    "val2"
   ]
  },
  {
   "cell_type": "code",
   "execution_count": null,
   "id": "7523a7fa",
   "metadata": {},
   "outputs": [],
   "source": [
    "val_ = 99\n",
    "val_"
   ]
  },
  {
   "cell_type": "markdown",
   "id": "75dab19a",
   "metadata": {},
   "source": [
    "## Comments in Python\n",
    "\n",
    "Comments are used for explaining the process or the snippet code. The IDE will not execute the comments."
   ]
  },
  {
   "cell_type": "code",
   "execution_count": null,
   "id": "36ef6baf",
   "metadata": {},
   "outputs": [],
   "source": [
    "# Single line comment\n",
    "val1 = 10"
   ]
  },
  {
   "cell_type": "code",
   "execution_count": null,
   "id": "9e439f74",
   "metadata": {},
   "outputs": [],
   "source": [
    "# Multiple\n",
    "# line\n",
    "# comment\n",
    "val1 = 10"
   ]
  },
  {
   "cell_type": "code",
   "execution_count": null,
   "id": "a63e7e66",
   "metadata": {},
   "outputs": [],
   "source": [
    "# Multi-line comments (block comments)\n",
    "'''\n",
    "Multiple\n",
    "line\n",
    "comment\n",
    "'''\n",
    "val1 = 10"
   ]
  },
  {
   "cell_type": "code",
   "execution_count": null,
   "id": "af210596",
   "metadata": {},
   "outputs": [],
   "source": [
    "\"\"\"\n",
    "Multiple\n",
    "line\n",
    "comment\n",
    "\"\"\"\n",
    "val1 = 10"
   ]
  },
  {
   "cell_type": "markdown",
   "id": "ed5844e3",
   "metadata": {},
   "source": [
    "## Statements"
   ]
  },
  {
   "cell_type": "code",
   "execution_count": null,
   "id": "cd7da96d",
   "metadata": {},
   "outputs": [],
   "source": [
    "# Single line statement\n",
    "p1 = 10 + 20\n",
    "p1"
   ]
  },
  {
   "cell_type": "code",
   "execution_count": null,
   "id": "820b2787",
   "metadata": {},
   "outputs": [],
   "source": [
    "# Single line statement\n",
    "p2 = ['a' , 'b' , 'c' , 'd']\n",
    "p2"
   ]
  },
  {
   "cell_type": "code",
   "execution_count": null,
   "id": "6f2e9f38",
   "metadata": {},
   "outputs": [],
   "source": [
    "# Multiple line statement\n",
    "p1 = 20 + 30 \\\n",
    "+ 40 + 50 +\\\n",
    "+ 70 + 80\n",
    "p1"
   ]
  },
  {
   "cell_type": "code",
   "execution_count": null,
   "id": "ab4c1071",
   "metadata": {},
   "outputs": [],
   "source": [
    "p1 = 20 + 30 + 40 + 50 + 70 + 80\n",
    "p1"
   ]
  },
  {
   "cell_type": "markdown",
   "id": "c95cae2e",
   "metadata": {},
   "source": [
    "## Indentation\n",
    "\n",
    "Indentation refers to the spaces at the beginning of a code line. It is very important that Python uses indentation to indicate a block of code. If the indentation is not correct we will endup with `IndentationError error`."
   ]
  },
  {
   "cell_type": "code",
   "execution_count": null,
   "id": "a0e1367b",
   "metadata": {},
   "outputs": [],
   "source": [
    "p = 10\n",
    "\n",
    "if p == 10:\n",
    "    print('P is equal to 10') # correct indentation"
   ]
  },
  {
   "cell_type": "code",
   "execution_count": null,
   "id": "07b5e3b0",
   "metadata": {},
   "outputs": [],
   "source": [
    "p = 10\n",
    "\n",
    "if p == 10: \n",
    "print('P is equal to 10') # incorrect indentation"
   ]
  },
  {
   "cell_type": "code",
   "execution_count": null,
   "id": "526daf48",
   "metadata": {},
   "outputs": [],
   "source": [
    "for i in range(0,5):\n",
    "    print(i)"
   ]
  },
  {
   "cell_type": "code",
   "execution_count": null,
   "id": "912ce53e",
   "metadata": {},
   "outputs": [],
   "source": [
    "for i in range(0,5):\n",
    "print(i)"
   ]
  },
  {
   "cell_type": "code",
   "execution_count": null,
   "id": "c6bb664c",
   "metadata": {},
   "outputs": [],
   "source": [
    "# Correct format but less readable\n",
    "\n",
    "for i in range(0,5): print(i)"
   ]
  },
  {
   "cell_type": "code",
   "execution_count": null,
   "id": "48399659",
   "metadata": {},
   "outputs": [],
   "source": [
    "j = 20\n",
    "for i in range(0, 5):\n",
    "    print(i) # inside the for loop\n",
    "\n",
    "print(j) # outside the for loop"
   ]
  },
  {
   "cell_type": "markdown",
   "id": "4a885e9c",
   "metadata": {},
   "source": [
    "## Functions"
   ]
  },
  {
   "cell_type": "code",
   "execution_count": null,
   "id": "72297591",
   "metadata": {},
   "outputs": [],
   "source": [
    "def evenodd(num):\n",
    "\n",
    "    if num % 2 == 0:\n",
    "        print(\"Even Number\")\n",
    "    else:\n",
    "        print(\"Odd Number\")"
   ]
  },
  {
   "cell_type": "code",
   "execution_count": null,
   "id": "89ca584f",
   "metadata": {},
   "outputs": [],
   "source": [
    "evenodd(3)"
   ]
  },
  {
   "cell_type": "code",
   "execution_count": null,
   "id": "df6b20e7",
   "metadata": {},
   "outputs": [],
   "source": [
    "evenodd(2)"
   ]
  },
  {
   "cell_type": "markdown",
   "id": "10969b35",
   "metadata": {},
   "source": [
    "#### Your Turn\n",
    "\n",
    "Find the largest number from a given list:"
   ]
  },
  {
   "cell_type": "code",
   "execution_count": null,
   "id": "c9564da6",
   "metadata": {},
   "outputs": [],
   "source": [
    "def myFunc1(list1):\n",
    "    large_ = list1[0]\n",
    "    for number in list1:\n",
    "        if large_ < number:\n",
    "            large_ = number\n",
    "    return large_"
   ]
  },
  {
   "cell_type": "code",
   "execution_count": null,
   "id": "2a4c22c5",
   "metadata": {
    "scrolled": true
   },
   "outputs": [],
   "source": [
    "myFunc1([1, 2, 3, 10, 4, 8])"
   ]
  },
  {
   "cell_type": "code",
   "execution_count": null,
   "id": "86fae5ab",
   "metadata": {},
   "outputs": [],
   "source": [
    "def myFunc2(list1):\n",
    "    return max(list1)"
   ]
  },
  {
   "cell_type": "code",
   "execution_count": null,
   "id": "c06065cd",
   "metadata": {},
   "outputs": [],
   "source": [
    "myFunc2([1, 11, 3, 10, 4, 8])"
   ]
  },
  {
   "cell_type": "markdown",
   "id": "90426e2c",
   "metadata": {},
   "source": [
    "#### Your Turn\n",
    "\n",
    "Write a function to sum all the numbers in the list:"
   ]
  },
  {
   "cell_type": "code",
   "execution_count": null,
   "id": "c29c055e",
   "metadata": {},
   "outputs": [],
   "source": [
    "def mySum1(list1):\n",
    "    result = 0\n",
    "    for n in list1:\n",
    "        result = result + n\n",
    "    return result\n",
    "\n",
    "mySum1([1, 2, 3, 4, 5])"
   ]
  },
  {
   "cell_type": "code",
   "execution_count": null,
   "id": "1395832c",
   "metadata": {},
   "outputs": [],
   "source": [
    "def mySum2(list1):\n",
    "    return sum(list1)\n",
    "mySum1([1, 2, 3, 4, 5])"
   ]
  },
  {
   "cell_type": "code",
   "execution_count": null,
   "id": "9a783dba",
   "metadata": {},
   "outputs": [],
   "source": [
    "sum([1, 2, 3, 4, 5])"
   ]
  },
  {
   "cell_type": "markdown",
   "id": "0cd6b7d2",
   "metadata": {},
   "source": [
    "#### Your Turn\n",
    "\n",
    "Write a function that takes a list and return a new list with distinct (unique) elements from the first list."
   ]
  },
  {
   "cell_type": "code",
   "execution_count": null,
   "id": "84076a5c",
   "metadata": {},
   "outputs": [],
   "source": [
    "def myUnique(list1):\n",
    "    result = []\n",
    "    for n in list1:\n",
    "        if n not in result:\n",
    "            result.append(n)\n",
    "    return result"
   ]
  },
  {
   "cell_type": "code",
   "execution_count": null,
   "id": "d0b3db8c",
   "metadata": {},
   "outputs": [],
   "source": [
    "myUnique([1, 1, 1, 3, 3, 4, 5])"
   ]
  },
  {
   "cell_type": "markdown",
   "id": "ed13221c",
   "metadata": {},
   "source": [
    "## Variables\n",
    "\n",
    "A Python variable is a reserved memory location to store values. A variable is created the moment you first assign a value to it."
   ]
  },
  {
   "cell_type": "code",
   "execution_count": null,
   "id": "25615fa8",
   "metadata": {},
   "outputs": [],
   "source": [
    "p = 30"
   ]
  },
  {
   "cell_type": "code",
   "execution_count": null,
   "id": "45aae076",
   "metadata": {},
   "outputs": [],
   "source": [
    "'''\n",
    "id() function returns the “identity” of the object.\n",
    "The identity of an object - Is an integer\n",
    "                          - Guaranteed to be unique\n",
    "                          - Constant for this object during its lifetime.\n",
    "'''\n",
    "id(p)"
   ]
  },
  {
   "cell_type": "code",
   "execution_count": null,
   "id": "40be96a1",
   "metadata": {},
   "outputs": [],
   "source": [
    "# Memory address of the variable\n",
    "hex(id(p))"
   ]
  },
  {
   "cell_type": "code",
   "execution_count": null,
   "id": "54f6867f",
   "metadata": {},
   "outputs": [],
   "source": [
    "type(p)"
   ]
  },
  {
   "cell_type": "code",
   "execution_count": null,
   "id": "41bac9d3",
   "metadata": {},
   "outputs": [],
   "source": [
    "p = 20\n",
    "p = p + 10 # Variable Overwriting\n",
    "p"
   ]
  },
  {
   "cell_type": "markdown",
   "id": "2dc2f180",
   "metadata": {},
   "source": [
    "## Variable Assigment"
   ]
  },
  {
   "cell_type": "code",
   "execution_count": null,
   "id": "b097b1ec",
   "metadata": {},
   "outputs": [],
   "source": [
    "intvar = 10 # Integer variable\n",
    "floatvar = 2.57 # Float Variable\n",
    "strvar = \"Python Language\" # String variable\n",
    "\n",
    "print(intvar)\n",
    "print(floatvar)\n",
    "print(strvar)"
   ]
  },
  {
   "cell_type": "markdown",
   "id": "faaa8914",
   "metadata": {},
   "source": [
    "## Multiple Assignments"
   ]
  },
  {
   "cell_type": "code",
   "execution_count": null,
   "id": "5b5c7d3a",
   "metadata": {},
   "outputs": [],
   "source": [
    "intvar, floatvar, strvar = 10, 2.57, \"Python Language\" # Using commas to separate\n",
    "\n",
    "print(intvar)\n",
    "print(floatvar)\n",
    "print(strvar)"
   ]
  },
  {
   "cell_type": "code",
   "execution_count": null,
   "id": "110fde25",
   "metadata": {},
   "outputs": [],
   "source": [
    "p1 = p2 = p3 = p4 = 44 # All variables pointing to same value\n",
    "\n",
    "print(p1, p2, p3, p4)"
   ]
  },
  {
   "cell_type": "markdown",
   "id": "ec1ba4b1",
   "metadata": {},
   "source": [
    "#### Your Turn\n",
    "\n",
    "3 people participated in a song contest: Jack,Bill and Max. The Jury made a mistake when assigning the places:\n",
    "\n",
    "place_1 = 'Jack' place_2 = 'Bill' place_3 = 'Max'\n",
    "\n",
    "It should go like this: place_1 = 'Bill' place_2 = 'Max' place_3 = 'Jack'\n",
    "\n",
    "Write a code which will change the order. Your output:\n",
    "\n",
    "print(place_1,place_2,place_3)\n",
    "\n",
    "Bill,Max,Jack"
   ]
  },
  {
   "cell_type": "code",
   "execution_count": null,
   "id": "f2d9f43a",
   "metadata": {},
   "outputs": [],
   "source": [
    "place_1 = 'Jack'\n",
    "place_2 = 'Bill'\n",
    "place_3 = 'Max'\n",
    "\n",
    "temp = place_2     # temp = \"Bill\"\n",
    "\n",
    "place_2 = place_3  # place_2 = \"Max\"\n",
    "place_3 = place_1\n",
    "place_1 = temp\n",
    "\n",
    "print(place_1, place_2, place_3)"
   ]
  },
  {
   "cell_type": "markdown",
   "id": "0e164ae7",
   "metadata": {},
   "source": [
    "## Data Types\n",
    "\n",
    "### Numeric\n",
    "\n",
    "Numbers have two main types:\n",
    "\n",
    "* **Integers** are whole numbers: -14, -2, 0, 1, 100, 401233\n",
    "* **Floating** Point Numbers have decimal parts: -2.5 , 0.0, 98.6, 14.0"
   ]
  },
  {
   "cell_type": "code",
   "execution_count": null,
   "id": "6160dfbb",
   "metadata": {},
   "outputs": [],
   "source": [
    "val1 = 10 # Integer data type\n",
    "\n",
    "print(val1)\n",
    "\n",
    "print(type(10))\n",
    "print(type(val1)) # type of object"
   ]
  },
  {
   "cell_type": "code",
   "execution_count": null,
   "id": "79985c22",
   "metadata": {},
   "outputs": [],
   "source": [
    "val2 = 92.78 # Float data type\n",
    "\n",
    "print(val2)\n",
    "print(type(92.78))\n",
    "print(type(val2)) # type of object"
   ]
  },
  {
   "cell_type": "code",
   "execution_count": null,
   "id": "e92d71f8",
   "metadata": {},
   "outputs": [],
   "source": [
    "# How to cast integer to float???!\n",
    "\n",
    "float(42)"
   ]
  },
  {
   "cell_type": "code",
   "execution_count": null,
   "id": "2fe5aa56",
   "metadata": {},
   "outputs": [],
   "source": [
    "# How to cast float to integer???!\n",
    "\n",
    "int(3.43)"
   ]
  },
  {
   "cell_type": "code",
   "execution_count": null,
   "id": "70f609ac",
   "metadata": {},
   "outputs": [],
   "source": [
    "val3 = 25 + 10j # Complex data type\n",
    "\n",
    "print(val3)\n",
    "print(type(25 + 10j))\n",
    "print(type(val3)) # type of object"
   ]
  },
  {
   "cell_type": "markdown",
   "id": "35fa968e",
   "metadata": {},
   "source": [
    "### Boolean"
   ]
  },
  {
   "cell_type": "code",
   "execution_count": null,
   "id": "664e1bff",
   "metadata": {},
   "outputs": [],
   "source": [
    "bool1 = True\n",
    "\n",
    "bool2 = False\n",
    "\n",
    "print(type(bool1))\n",
    "print(type(bool2))"
   ]
  },
  {
   "cell_type": "code",
   "execution_count": null,
   "id": "b31d649c",
   "metadata": {},
   "outputs": [],
   "source": [
    "isinstance(bool1, bool)"
   ]
  },
  {
   "cell_type": "code",
   "execution_count": null,
   "id": "2a7c6b67",
   "metadata": {},
   "outputs": [],
   "source": [
    "bool(0)"
   ]
  },
  {
   "cell_type": "code",
   "execution_count": null,
   "id": "0230e019",
   "metadata": {},
   "outputs": [],
   "source": [
    "bool(None)"
   ]
  },
  {
   "cell_type": "code",
   "execution_count": null,
   "id": "c08d39d2",
   "metadata": {},
   "outputs": [],
   "source": [
    "bool(False)"
   ]
  },
  {
   "cell_type": "code",
   "execution_count": null,
   "id": "7a068139",
   "metadata": {},
   "outputs": [],
   "source": [
    "bool(1)"
   ]
  },
  {
   "cell_type": "code",
   "execution_count": null,
   "id": "4984a958",
   "metadata": {},
   "outputs": [],
   "source": [
    "print(bool(0))\n",
    "print(bool(23))\n",
    "print(bool(-10))"
   ]
  },
  {
   "cell_type": "markdown",
   "id": "17f9361a",
   "metadata": {},
   "source": [
    "An empty string is converted to False, all other strings to True.\n",
    "\n",
    "The boolean variable can be converted to int - zero and one."
   ]
  },
  {
   "cell_type": "code",
   "execution_count": null,
   "id": "890d3b38",
   "metadata": {},
   "outputs": [],
   "source": [
    "print(bool())\n",
    "print(bool('k'))"
   ]
  },
  {
   "cell_type": "code",
   "execution_count": null,
   "id": "fcd315f8",
   "metadata": {},
   "outputs": [],
   "source": [
    "print(int(True))\n",
    "print(int(False))"
   ]
  },
  {
   "cell_type": "markdown",
   "id": "58c2b7e4",
   "metadata": {},
   "source": [
    "### Strings\n",
    "\n",
    "### String Creation"
   ]
  },
  {
   "cell_type": "code",
   "execution_count": null,
   "id": "02cb76e4",
   "metadata": {},
   "outputs": [],
   "source": [
    "str1 = \"HELLO PYTHON\"  # Define string using double quotes\n",
    "print(str1)"
   ]
  },
  {
   "cell_type": "code",
   "execution_count": null,
   "id": "de851441",
   "metadata": {},
   "outputs": [],
   "source": [
    "mystr = 'Hello World' # Define string using single quotes\n",
    "print(mystr)"
   ]
  },
  {
   "cell_type": "code",
   "execution_count": null,
   "id": "691d8365",
   "metadata": {},
   "outputs": [],
   "source": [
    "mystr = '''Hello \n",
    "           World '''  # Define string using triple quotes\n",
    "print(mystr)"
   ]
  },
  {
   "cell_type": "code",
   "execution_count": null,
   "id": "3950aeb1",
   "metadata": {},
   "outputs": [],
   "source": [
    "mystr = ('Happy '\n",
    "         'Wednesday '\n",
    "         'Everyone')\n",
    "print(mystr)"
   ]
  },
  {
   "cell_type": "code",
   "execution_count": null,
   "id": "5c3514ad",
   "metadata": {},
   "outputs": [],
   "source": [
    "# What multiplication does to a string ???!\n",
    "\n",
    "mystr2 = 'Woohoo '\n",
    "\n",
    "mystr2 = mystr2 * 5\n",
    "mystr2"
   ]
  },
  {
   "cell_type": "code",
   "execution_count": null,
   "id": "3d8c5a74",
   "metadata": {},
   "outputs": [],
   "source": [
    "len(mystr2) # Length of string\n",
    "\n",
    "# Why 35??!!"
   ]
  },
  {
   "cell_type": "code",
   "execution_count": null,
   "id": "81639d02",
   "metadata": {},
   "outputs": [],
   "source": [
    "a = 1\n",
    "b = str(a)     # b = str (1)\n",
    "\n",
    "print(type(b))\n",
    "print(b)\n",
    "print(a+b)"
   ]
  },
  {
   "cell_type": "code",
   "execution_count": null,
   "id": "76bf1f2f",
   "metadata": {},
   "outputs": [],
   "source": [
    "a = 8\n",
    "a = float(a)\n",
    "print(a)\n",
    "\n",
    "a = str(a)\n",
    "print(a)\n",
    "type(a)"
   ]
  },
  {
   "cell_type": "code",
   "execution_count": null,
   "id": "0ebb8a09",
   "metadata": {},
   "outputs": [],
   "source": [
    "b = \"1\"\n",
    "print(b)\n",
    "print('1' + b)  ### \"1\" and b - strings. That is why concatenation occurs, \n",
    "                ### when two strings merge into aone. "
   ]
  },
  {
   "cell_type": "code",
   "execution_count": null,
   "id": "700b0146",
   "metadata": {},
   "outputs": [],
   "source": [
    "print (1+int(b))  # 1+1"
   ]
  },
  {
   "attachments": {
    "Indexing.png": {
     "image/png": "[encoded data removed]"
    }
   },
   "cell_type": "markdown",
   "id": "717c379f",
   "metadata": {},
   "source": [
    "### String Indexing\n",
    "\n",
    "![Indexing.png](attachment:Indexing.png)"
   ]
  },
  {
   "cell_type": "code",
   "execution_count": null,
   "id": "e214eacd",
   "metadata": {},
   "outputs": [],
   "source": [
    "str1"
   ]
  },
  {
   "cell_type": "code",
   "execution_count": null,
   "id": "f66d5532",
   "metadata": {},
   "outputs": [],
   "source": [
    "# Pythin is 0 base format (index start from 0 to n-1)\n",
    "str1[0] # First character in string \"str1\""
   ]
  },
  {
   "cell_type": "code",
   "execution_count": null,
   "id": "5d8c463c",
   "metadata": {},
   "outputs": [],
   "source": [
    "len(str1)"
   ]
  },
  {
   "cell_type": "code",
   "execution_count": null,
   "id": "f015ba67",
   "metadata": {},
   "outputs": [],
   "source": [
    "str1[len(str1)-1]"
   ]
  },
  {
   "cell_type": "code",
   "execution_count": null,
   "id": "3c4beb3c",
   "metadata": {},
   "outputs": [],
   "source": [
    "# Minus index in Python gives indexes from the end (in R programming, using minus index will remove that element)\n",
    "\n",
    "str1[-1] # Last character in string"
   ]
  },
  {
   "cell_type": "code",
   "execution_count": null,
   "id": "f7183420",
   "metadata": {},
   "outputs": [],
   "source": [
    "str1[-12]"
   ]
  },
  {
   "cell_type": "code",
   "execution_count": null,
   "id": "38477275",
   "metadata": {},
   "outputs": [],
   "source": [
    "str1[6] # Fetch 7th element of the string"
   ]
  },
  {
   "cell_type": "code",
   "execution_count": null,
   "id": "e132c430",
   "metadata": {},
   "outputs": [],
   "source": [
    "str1[5]"
   ]
  },
  {
   "cell_type": "markdown",
   "id": "160844f2",
   "metadata": {},
   "source": [
    "### String Slicing"
   ]
  },
  {
   "cell_type": "code",
   "execution_count": null,
   "id": "ce198197",
   "metadata": {},
   "outputs": [],
   "source": [
    "print(str1)\n",
    "\n",
    "str1[0:5]"
   ]
  },
  {
   "cell_type": "code",
   "execution_count": null,
   "id": "78e11ddc",
   "metadata": {},
   "outputs": [],
   "source": [
    "str1[6:12]"
   ]
  },
  {
   "cell_type": "code",
   "execution_count": null,
   "id": "f9fb59bd",
   "metadata": {},
   "outputs": [],
   "source": [
    "str1[-4:]"
   ]
  },
  {
   "cell_type": "code",
   "execution_count": null,
   "id": "a2f1ee5c",
   "metadata": {},
   "outputs": [],
   "source": [
    "str1[:4]"
   ]
  },
  {
   "cell_type": "code",
   "execution_count": null,
   "id": "fbd260a6",
   "metadata": {},
   "outputs": [],
   "source": [
    "# How to delete a string??!!\n",
    "\n",
    "print(str1)\n",
    "\n",
    "del str1 # Delete a string\n",
    "\n",
    "print(srt1)"
   ]
  },
  {
   "cell_type": "markdown",
   "id": "3636f5f4",
   "metadata": {},
   "source": [
    "### String concatenation"
   ]
  },
  {
   "cell_type": "code",
   "execution_count": null,
   "id": "d3754821",
   "metadata": {},
   "outputs": [],
   "source": [
    "# String concatenation\n",
    "s1 = \"Hello\"\n",
    "s2 = \"Asif\"\n",
    "\n",
    "s3 = s1 + s2\n",
    "\n",
    "print(s3)"
   ]
  },
  {
   "cell_type": "code",
   "execution_count": null,
   "id": "1df4d6ed",
   "metadata": {},
   "outputs": [],
   "source": [
    "# String concatenation\n",
    "s1 = \"Hello\"\n",
    "s2 = \"Asif\"\n",
    "s3 = s1 + \" \" + s2\n",
    "print(s3)"
   ]
  },
  {
   "cell_type": "markdown",
   "id": "afe750b0",
   "metadata": {},
   "source": [
    "### Iterating through a String"
   ]
  },
  {
   "cell_type": "code",
   "execution_count": null,
   "id": "6fbc7464",
   "metadata": {},
   "outputs": [],
   "source": [
    "mystr1 = \"Hello Everyone\"\n",
    "\n",
    "# Iteration\n",
    "for i in mystr1:\n",
    "    print(i)"
   ]
  },
  {
   "cell_type": "code",
   "execution_count": null,
   "id": "06b2d581",
   "metadata": {},
   "outputs": [],
   "source": [
    "print(10)\n",
    "print(20)\n",
    "print(40)"
   ]
  },
  {
   "cell_type": "markdown",
   "id": "7ff1caa6",
   "metadata": {},
   "source": [
    "#### Your Turn\n",
    "\n",
    "Print each letter of \"Hello Everyone\" in a loop, all letters in one line."
   ]
  },
  {
   "cell_type": "code",
   "execution_count": null,
   "id": "258c3b43",
   "metadata": {},
   "outputs": [],
   "source": [
    "<YOUR CODE>"
   ]
  },
  {
   "cell_type": "code",
   "execution_count": null,
   "id": "78276c35",
   "metadata": {},
   "outputs": [],
   "source": []
  }
 ],
 "metadata": {
  "kernelspec": {
   "display_name": "Python 3 (ipykernel)",
   "language": "python",
   "name": "python3"
  },
  "language_info": {
   "codemirror_mode": {
    "name": "ipython",
    "version": 3
   },
   "file_extension": ".py",
   "mimetype": "text/x-python",
   "name": "python",
   "nbconvert_exporter": "python",
   "pygments_lexer": "ipython3",
   "version": "3.10.9"
  }
 },
 "nbformat": 4,
 "nbformat_minor": 5
}
