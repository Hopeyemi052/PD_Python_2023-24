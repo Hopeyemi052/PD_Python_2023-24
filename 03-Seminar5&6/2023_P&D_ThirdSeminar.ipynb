{
 "cells": [
  {
   "cell_type": "markdown",
   "metadata": {
    "id": "d8ShhvetFpA7"
   },
   "source": [
    "# Seminar 3: List, Tuple, For (Population and Development)\n",
    "\n",
    "\n",
    "# Intro to sequences"
   ]
  },
  {
   "cell_type": "markdown",
   "metadata": {
    "id": "RcFvlz11FpA8"
   },
   "source": [
    "It is rather convenient to store similar things together. In Python we can store some data within one structure. Some of those structures are called **sequences**."
   ]
  },
  {
   "cell_type": "markdown",
   "metadata": {
    "id": "jWhNIlbzFpA8"
   },
   "source": [
    "We already know one type of a sequence-like structure — `str` — strings.\n",
    "\n",
    "Python sees a string as a sequence of symbols, each has its own index number.\n",
    "\n",
    "But what data type can we use if we want to store together different data types?"
   ]
  },
  {
   "cell_type": "markdown",
   "metadata": {
    "id": "9h_92vUmFpA9"
   },
   "source": [
    "## List\n",
    "When we go to get some groceries, we may make a shopping list.\n",
    "\n",
    "E.g., today we need:\n",
    "bread, milk, ice cream, cheese\n",
    "\n",
    "We can store all those strings together in Python like this `['bread', 'milk', 'ice cream', 'cheese']`. `[]` here denotes a container that stores each string as a different object. Such a container is called **list**.\n",
    "\n",
    "Today we will work mainly with that shopping list example that contains only strings. But such a data type may contain anything. Let's check!"
   ]
  },
  {
   "cell_type": "code",
   "execution_count": null,
   "metadata": {
    "colab": {
     "base_uri": "https://localhost:8080/"
    },
    "id": "-_hBk1brFpA-",
    "outputId": "8f6ecf53-6bb7-41bd-ecaf-908630bd31f3"
   },
   "outputs": [],
   "source": [
    "food_info = ['Chocolate', 1.90, 2, True]  # title, price, quantity, 'best before'\n",
    "print(type(food_info)) # checking data type"
   ]
  },
  {
   "cell_type": "markdown",
   "metadata": {
    "id": "qKlSuymef5IS"
   },
   "source": [
    "So, to create a `list` and to store it into the variable we should\n",
    "1. Create a variable\n",
    "2. Assign to it our objects listed within square brackets."
   ]
  },
  {
   "cell_type": "markdown",
   "metadata": {
    "id": "oaK5Y5JOFpBO"
   },
   "source": [
    "We may also create empty `lists`. Later we will learn how to add new elements to our lists. This is a popular solution for some problems. E.g. we might want to populate an empty list with items that correspond to some conditions."
   ]
  },
  {
   "cell_type": "code",
   "execution_count": null,
   "metadata": {
    "colab": {
     "base_uri": "https://localhost:8080/"
    },
    "id": "-HzaePp_FpBP",
    "outputId": "bf48dec7-674f-4fad-a0b0-fcd9bc3fa6be"
   },
   "outputs": [],
   "source": [
    "# creating an empty list with []\n",
    "shopping_list = []\n",
    "print(shopping_list)\n",
    "\n",
    "# creating an empty list with list() function without arguments\n",
    "shopping_list_2 = list()\n",
    "print(shopping_list_2)"
   ]
  },
  {
   "cell_type": "markdown",
   "metadata": {
    "id": "bMVkcIjtHXoF"
   },
   "source": [
    "### How to input a list?\n",
    "\n",
    "We cannot read a list from the input, but we can read the string and then transform it to a list.\n",
    "\n",
    "We can use `.split()` for the latter. This `.` point in front of `.split()` gives us an idea that `.split()` is not your usual function. E.g. we can use `print()` function with any type of data, it will print anything! But there are also some functions which scope is limited. `.split()` is one of those. We should call it only attached to a string, e.g. `'cat likes milk'.split()`. Such functions are called *methods*. We will talk more about them next time."
   ]
  },
  {
   "cell_type": "code",
   "execution_count": null,
   "metadata": {
    "colab": {
     "base_uri": "https://localhost:8080/",
     "height": 53
    },
    "id": "a2xfnurRIhch",
    "outputId": "00af3adc-06b7-4f6d-cdbe-cf0e06bfd9d0"
   },
   "outputs": [],
   "source": [
    "s = 'a b c d e f g'     # string with letters\n",
    "alphabet = s.split()    # converting a string to a list\n",
    "print(f'String: {s}')\n",
    "print(f'List: {alphabet}')"
   ]
  },
  {
   "cell_type": "markdown",
   "metadata": {
    "id": "7O3oOvV_c8yy"
   },
   "source": [
    "So it seems that `.split()` splits string via spaces. Let's check it!"
   ]
  },
  {
   "cell_type": "code",
   "execution_count": null,
   "metadata": {
    "colab": {
     "base_uri": "https://localhost:8080/",
     "height": 35
    },
    "id": "52b62ZEKdB8t",
    "outputId": "6426c4c0-639f-4546-f8db-2215838582a8"
   },
   "outputs": [],
   "source": [
    "s = 'ab cde f g' # putting random spaces\n",
    "print(s.split()) # still works"
   ]
  },
  {
   "cell_type": "markdown",
   "metadata": {
    "id": "2N00v-uqeFsi"
   },
   "source": [
    "Actually, `.split()` by default splits the string not only by spaces, but by whitespace characters. Such as `\\n` (new line), `\\t` (tabulation), etc."
   ]
  },
  {
   "cell_type": "code",
   "execution_count": null,
   "metadata": {
    "colab": {
     "base_uri": "https://localhost:8080/"
    },
    "id": "Q8zhUg5AeFQ_",
    "outputId": "b42fb65a-37b4-47cf-d5ef-6761365c28d7"
   },
   "outputs": [],
   "source": [
    "s = 'milk\\nchocolate\\tbread tomatoes'\n",
    "\n",
    "print(s.split()) # python splits it via all whitespaces"
   ]
  },
  {
   "cell_type": "markdown",
   "metadata": {
    "id": "C-cLcncfI0t0"
   },
   "source": [
    "Let's try with `input()` now"
   ]
  },
  {
   "cell_type": "code",
   "execution_count": null,
   "metadata": {
    "colab": {
     "base_uri": "https://localhost:8080/"
    },
    "id": "4F1OvzUrI3VL",
    "outputId": "b8e2ffd8-cf43-4b5d-bc90-016cdc57a695"
   },
   "outputs": [],
   "source": [
    "s = input('Input the shopping list: ') # type in things separated by spaces\n",
    "shopping_list = s.split()\n",
    "print(f'Shopping list: {shopping_list}')"
   ]
  },
  {
   "cell_type": "markdown",
   "metadata": {
    "id": "6Fgp7J31JG80"
   },
   "source": [
    "`.split()` method can split a string into a list by other separators as well. Let's input our shopping list separated by commas and call `.split()` with an argument `','`.  Thus Python will know that we want to use a different symbol rather than whitespaces as separator."
   ]
  },
  {
   "cell_type": "code",
   "execution_count": null,
   "metadata": {
    "colab": {
     "base_uri": "https://localhost:8080/"
    },
    "id": "yZhDJ-eKJQtw",
    "outputId": "193de133-536a-4c16-fae2-87766475bee1"
   },
   "outputs": [],
   "source": [
    "s = input('Input the shopping list: ') # type in things separated by commas now\n",
    "shopping_list = s.split(',')\n",
    "print(f'Shopping list: {shopping_list}')"
   ]
  },
  {
   "cell_type": "markdown",
   "metadata": {
    "id": "_5G58opQJdoC"
   },
   "source": [
    "We can actually get rid of `s` variable and use `.split()` directly with `input()`:"
   ]
  },
  {
   "cell_type": "code",
   "execution_count": null,
   "metadata": {
    "colab": {
     "base_uri": "https://localhost:8080/"
    },
    "id": "EVXoareuJdW3",
    "outputId": "a469418d-0075-4188-974b-b54dcef625cc"
   },
   "outputs": [],
   "source": [
    "shopping_list = input('Input the shopping list: ').split(',')\n",
    "print(f'Shopping list: {shopping_list}')"
   ]
  },
  {
   "cell_type": "markdown",
   "metadata": {
    "id": "3Zi-y2cRFpBB"
   },
   "source": [
    "### How to work with the elements of the sequence?\n",
    "\n",
    "Ok, let's talk how to use indices with lists."
   ]
  },
  {
   "cell_type": "code",
   "execution_count": null,
   "metadata": {
    "colab": {
     "base_uri": "https://localhost:8080/"
    },
    "id": "rTAG4LY7FpBC",
    "outputId": "b2b59269-63fd-48e4-a282-278bd33f6f44"
   },
   "outputs": [],
   "source": [
    "# create a list for an example\n",
    "shopping_list = ['bread', 'milk', 'ice cream', 'cheese']\n",
    "print(shopping_list)"
   ]
  },
  {
   "cell_type": "markdown",
   "metadata": {
    "id": "V8pEDqe0FpBH"
   },
   "source": [
    "If we look at the shopping list we can easily imagine its structure\n",
    "- bread;\n",
    "- milk;\n",
    "- ice cream;\n",
    "- cheese.\n",
    "\n",
    "We also can easily imagine numbers next to the items. The bread goes first, then milk, etc."
   ]
  },
  {
   "cell_type": "markdown",
   "metadata": {
    "id": "95EvJ1dUFpBH"
   },
   "source": [
    "\n",
    "Python also sees it numbered:\n",
    "\n",
    "    [0] bread\n",
    "    [1] milk\n",
    "    [2] ice cream\n",
    "    [3] cheese\n"
   ]
  },
  {
   "cell_type": "markdown",
   "metadata": {},
   "source": [
    "### List indexing\n",
    "\n",
    "<img src=\"List_indexing.png\">"
   ]
  },
  {
   "cell_type": "markdown",
   "metadata": {
    "id": "n0bkHI5NFpBI"
   },
   "source": [
    "Each element has its own index. It's actually the same like with strings."
   ]
  },
  {
   "cell_type": "code",
   "execution_count": null,
   "metadata": {
    "colab": {
     "base_uri": "https://localhost:8080/"
    },
    "id": "bCzMA2uXC6hp",
    "outputId": "defde195-10fc-4655-f332-60aaf8521c66"
   },
   "outputs": [],
   "source": [
    "shopping_list = ['bread', 'milk', 'ice cream', 'cheese']\n",
    "s = 'Hello'\n",
    "print(shopping_list[3])     # print 3rd element of our list\n",
    "print(s[3])                 # print 3rd element of our string"
   ]
  },
  {
   "cell_type": "markdown",
   "metadata": {
    "id": "Kvh_lMKLDjd8"
   },
   "source": [
    "Let's make it more interactive asking to input an index:"
   ]
  },
  {
   "cell_type": "code",
   "execution_count": null,
   "metadata": {
    "colab": {
     "base_uri": "https://localhost:8080/"
    },
    "id": "Q_oNYZCrFpBI",
    "outputId": "8ec10a8e-eac2-468c-dea6-6d0133d7db69",
    "scrolled": true
   },
   "outputs": [],
   "source": [
    "shopping_list = ['bread', 'milk', 'ice cream', 'cheese']\n",
    "\n",
    "i = int(input('Input an index: '))\n",
    "print(shopping_list[i]) # printing an element with index i"
   ]
  },
  {
   "cell_type": "markdown",
   "metadata": {
    "id": "QmpVTy1mFpBL"
   },
   "source": [
    "Remember that Python counts from zero. It is not really convinient for us — humans — to count like this, so let's correct our input for a computer by subtracting one from the index we've inputted. Now Python really gives us the first element if we ask for it."
   ]
  },
  {
   "cell_type": "code",
   "execution_count": null,
   "metadata": {
    "colab": {
     "base_uri": "https://localhost:8080/"
    },
    "id": "lrIagR6IFpBM",
    "outputId": "1006d15d-7b37-4815-df18-f801c03d2b11"
   },
   "outputs": [],
   "source": [
    "shopping_list = ['bread', 'milk', 'ice cream', 'cheese']\n",
    "\n",
    "i = int(input('Input an index: ')) - 1 # adjusting a human-index to a computer-index\n",
    "\n",
    "print(shopping_list[i]) # printing an element with index i"
   ]
  },
  {
   "cell_type": "markdown",
   "metadata": {
    "id": "YfGzeiscyOPo"
   },
   "source": [
    "And also like with the strings we can check the number of elements withing a list via `len()` function."
   ]
  },
  {
   "cell_type": "code",
   "execution_count": null,
   "metadata": {
    "colab": {
     "base_uri": "https://localhost:8080/"
    },
    "id": "Y3aQ1s2_yUZF",
    "outputId": "ed22c35d-3193-4caa-9c47-db96209b34a6",
    "scrolled": true
   },
   "outputs": [],
   "source": [
    "print(len('Hello')) # returns number of symbols withing a string\n",
    "print(len(['bread', 'milk'])) # returns number of objects withing a list"
   ]
  },
  {
   "cell_type": "code",
   "execution_count": null,
   "metadata": {},
   "outputs": [],
   "source": [
    "list2 = [10, 30, 60]  # List of integers numbers\n",
    "\n",
    "list3 = [10.77, 30.66, 60.89]        # List of float numbers\n",
    "\n",
    "list4 = ['one', 'two' , \"three\"]    # List of strings\n",
    "\n",
    "list5 = ['Asif', 25 , [50, 100], [150, 90]]    # Nested Lists\n",
    "\n",
    "list6 = [100, 'Asif', 17.765]      # List of mixed data types\n",
    "\n",
    "list7 = ['Asif', 25 ,[50, 100],[150.1, 90.2] , {'John' , 'David'}]\n",
    "\n",
    "len(list6) #Length of list"
   ]
  },
  {
   "cell_type": "code",
   "execution_count": null,
   "metadata": {},
   "outputs": [],
   "source": [
    "print(list(list4))\n",
    "\n",
    "list4[0][0] # Nested indexing"
   ]
  },
  {
   "cell_type": "markdown",
   "id": "6c6ad56d",
   "metadata": {},
   "source": [
    "### Add , Remove & Change Items"
   ]
  },
  {
   "cell_type": "code",
   "execution_count": null,
   "id": "65569e01",
   "metadata": {},
   "outputs": [],
   "source": [
    "mylist = ['one' , 'two' , 'three' , 'four' , 'five' , 'six' , 'seven' , 'eight']\n",
    "\n",
    "mylist.append('nine') # Add an item to the end of the list\n",
    "mylist"
   ]
  },
  {
   "cell_type": "code",
   "execution_count": null,
   "id": "c71b68c4",
   "metadata": {},
   "outputs": [],
   "source": [
    "mylist.insert(9,'ten') # Add item at index location 9\n",
    "mylist"
   ]
  },
  {
   "cell_type": "code",
   "execution_count": null,
   "id": "59948ede",
   "metadata": {},
   "outputs": [],
   "source": [
    "mylist.insert(1,'ONE') # Add item at index location 1\n",
    "mylist"
   ]
  },
  {
   "cell_type": "code",
   "execution_count": null,
   "id": "72df53fa",
   "metadata": {},
   "outputs": [],
   "source": [
    "mylist.remove('ONE') # Remove item \"ONE\"\n",
    "mylist"
   ]
  },
  {
   "cell_type": "code",
   "execution_count": null,
   "id": "97141fde",
   "metadata": {},
   "outputs": [],
   "source": [
    "mylist.pop() # Remove last item of the list\n",
    "mylist"
   ]
  },
  {
   "cell_type": "code",
   "execution_count": null,
   "id": "644cc012",
   "metadata": {},
   "outputs": [],
   "source": [
    "mylist.pop(8) # Remove item at index location 8\n",
    "mylist"
   ]
  },
  {
   "cell_type": "code",
   "execution_count": null,
   "id": "b0ef9327",
   "metadata": {},
   "outputs": [],
   "source": [
    "del mylist[7] # Remove item at index location 7\n",
    "mylist"
   ]
  },
  {
   "cell_type": "code",
   "execution_count": null,
   "id": "2218c521",
   "metadata": {},
   "outputs": [],
   "source": [
    "# Change value of the list\n",
    "mylist[0] = 1\n",
    "mylist[1] = 2\n",
    "mylist[2] = 3\n",
    "\n",
    "mylist"
   ]
  },
  {
   "cell_type": "code",
   "execution_count": null,
   "id": "52873673",
   "metadata": {},
   "outputs": [],
   "source": [
    "mylist.clear()    # Empty List / Delete all items in the list\n",
    "mylist"
   ]
  },
  {
   "cell_type": "code",
   "execution_count": null,
   "id": "8d3d6342",
   "metadata": {},
   "outputs": [],
   "source": [
    "del mylist # Delete the whole list\n",
    "mylist"
   ]
  },
  {
   "cell_type": "markdown",
   "id": "ac9eccd0",
   "metadata": {},
   "source": [
    "### Copy List\n",
    "\n",
    "Be carefull during copying then manipulating the list. **Why??**!!"
   ]
  },
  {
   "cell_type": "code",
   "execution_count": null,
   "id": "de543a5b",
   "metadata": {},
   "outputs": [],
   "source": [
    "mylist = ['one', 'two', 'three', 'four', 'five', 'six', 'seven', 'eight', 'nine', 'ten']"
   ]
  },
  {
   "cell_type": "code",
   "execution_count": null,
   "id": "449c9703",
   "metadata": {},
   "outputs": [],
   "source": [
    "mylist1 = mylist # Create a new reference \"mylist1\""
   ]
  },
  {
   "cell_type": "code",
   "execution_count": null,
   "id": "c27a461f",
   "metadata": {},
   "outputs": [],
   "source": [
    "id(mylist) , id(mylist1) # The address of both mylist & mylist1 will be the same"
   ]
  },
  {
   "cell_type": "code",
   "execution_count": null,
   "id": "9b4fe287",
   "metadata": {},
   "outputs": [],
   "source": [
    "mylist2 = mylist.copy() # Create a copy of the list"
   ]
  },
  {
   "cell_type": "code",
   "execution_count": null,
   "id": "af9a017e",
   "metadata": {},
   "outputs": [],
   "source": [
    "id(mylist2) # The address of mylist2 will be different from mylist"
   ]
  },
  {
   "cell_type": "code",
   "execution_count": null,
   "id": "478c3e0b",
   "metadata": {},
   "outputs": [],
   "source": [
    "mylist[0] = 1"
   ]
  },
  {
   "cell_type": "code",
   "execution_count": null,
   "id": "cb9d5300",
   "metadata": {},
   "outputs": [],
   "source": [
    "mylist"
   ]
  },
  {
   "cell_type": "code",
   "execution_count": null,
   "id": "0e3681b2",
   "metadata": {},
   "outputs": [],
   "source": [
    "mylist1 # mylist1 will be also impacted as it is pointing to the same list"
   ]
  },
  {
   "cell_type": "code",
   "execution_count": null,
   "id": "2b18ad2f",
   "metadata": {},
   "outputs": [],
   "source": [
    "mylist2 # Copy of list won't be impacted due to changes made on the original"
   ]
  },
  {
   "cell_type": "code",
   "execution_count": null,
   "metadata": {},
   "outputs": [],
   "source": []
  },
  {
   "cell_type": "code",
   "execution_count": null,
   "metadata": {},
   "outputs": [],
   "source": []
  },
  {
   "cell_type": "code",
   "execution_count": null,
   "metadata": {},
   "outputs": [],
   "source": []
  },
  {
   "cell_type": "code",
   "execution_count": null,
   "metadata": {},
   "outputs": [],
   "source": []
  },
  {
   "cell_type": "markdown",
   "metadata": {},
   "source": [
    "## Tuple"
   ]
  },
  {
   "cell_type": "markdown",
   "metadata": {},
   "source": [
    "There is another sequence type that is very similar to lists. The major difference is that we cannot change it after we've created one. Such sequence is called a **tuple**.\n",
    "\n",
    "We can create one using usual brackets instead of square ones."
   ]
  },
  {
   "cell_type": "code",
   "execution_count": null,
   "metadata": {},
   "outputs": [],
   "source": [
    "a = (1, 2, 3, 4, 5, 6)\n",
    "print(type(a))"
   ]
  },
  {
   "cell_type": "markdown",
   "metadata": {},
   "source": [
    "## Mutable and immutable data types"
   ]
  },
  {
   "cell_type": "markdown",
   "metadata": {},
   "source": [
    "It was said that we cannot change a tuple. Let's find out what does it mean.\n",
    "\n",
    "Let's try to change an element withing a list."
   ]
  },
  {
   "cell_type": "code",
   "execution_count": null,
   "metadata": {},
   "outputs": [],
   "source": [
    "shopping_list = ['bread', 'milk', 'ice cream', 'cheese']\n",
    "shopping_list[2] = 'chocolate'\n",
    "print(shopping_list)"
   ]
  },
  {
   "cell_type": "markdown",
   "metadata": {},
   "source": [
    "Now you see that we can assign a new element by a list index. Thus list is a **mutable data type**.\n",
    "\n",
    "But we cannot do the same with a tuple."
   ]
  },
  {
   "cell_type": "code",
   "execution_count": null,
   "metadata": {},
   "outputs": [],
   "source": [
    "shopping_tuple = ('bread', 'milk', 'ice cream', 'cheese')\n",
    "shopping_tuple[2] = 'chocolate'"
   ]
  },
  {
   "cell_type": "markdown",
   "metadata": {},
   "source": [
    "Tuples are **immutable**. Another data type that is also immutable is string."
   ]
  },
  {
   "cell_type": "code",
   "execution_count": null,
   "metadata": {},
   "outputs": [],
   "source": [
    "s = 'bread'\n",
    "s[0] = 'B'"
   ]
  },
  {
   "cell_type": "markdown",
   "metadata": {},
   "source": [
    "If we really want to change an element inside the tuple we can always convert it to a list, change element, and convert it back. This situation is rather exotic, but let's check how we can do something like this.\n",
    "\n",
    "`list()` function can transform a tuple to a list, and `tuple()` vice versa. It's similar to the convertion of a string `'2'` to an integer via `int()` function.\n",
    "\n",
    "Later we will see that we can use `tuple()` and `list()` to convert some data types into tuples and lists as well."
   ]
  },
  {
   "cell_type": "code",
   "execution_count": null,
   "metadata": {},
   "outputs": [],
   "source": [
    "shopping_tuple = ('bread', 'milk', 'ice cream', 'cheese')\n",
    "shopping_list = list(shopping_tuple) # converting tuple to list\n",
    "shopping_list[0] = 'pelmeni'  # replacing list's element\n",
    "\n",
    "shopping_tuple = tuple(shopping_list)   # converting list with a replaced element back to tuple\n",
    "print(shopping_tuple)"
   ]
  },
  {
   "cell_type": "markdown",
   "metadata": {},
   "source": [
    "So, today we have learned about **sequences**. We know two sequence-types: **list** and **tuple**. **String** is also a sequence-like data type.\n",
    "\n",
    "Also we've learned that data types can be **mutable** or **immutable**. So far we know the only **mutable** data type, it is list."
   ]
  },
  {
   "cell_type": "markdown",
   "metadata": {},
   "source": [
    "## Unpacking: printing a sequence\n",
    "\n",
    "If we want to print a list without square brackets or a tuple without round ones we can use `*` operator within the `print()` function."
   ]
  },
  {
   "cell_type": "code",
   "execution_count": null,
   "metadata": {},
   "outputs": [],
   "source": [
    "shopping_list = ['bread', 'milk', 'ice cream', 'cheese']\n",
    "print(*shopping_list)"
   ]
  },
  {
   "cell_type": "markdown",
   "metadata": {},
   "source": [
    "Star operator before `shopping_list` makes Python see it not like a list but as several indepenedent elements. Something like `print(shopping_list[0], shopping_list[1], shopping_list[2], shopping_list[3])`.\n",
    "\n",
    "This operation is called *unpacking*. Later we will see that we can use unpacking in some other situations as well."
   ]
  },
  {
   "cell_type": "code",
   "execution_count": null,
   "metadata": {},
   "outputs": [],
   "source": [
    "shopping_list = ['bread', 'milk', 'ice cream', 'cheese']\n",
    "# printing our list nicely without unpacking\n",
    "print(shopping_list[0], shopping_list[1], shopping_list[2], shopping_list[3], sep=', ')\n",
    "# the same but shorter\n",
    "print(*shopping_list, sep=', ')"
   ]
  },
  {
   "cell_type": "markdown",
   "metadata": {},
   "source": [
    "Please note that such syntax will not work inside an f-string."
   ]
  },
  {
   "cell_type": "code",
   "execution_count": null,
   "metadata": {},
   "outputs": [],
   "source": [
    "print(f'Our shopping list {*shopping_list}')"
   ]
  },
  {
   "cell_type": "markdown",
   "metadata": {},
   "source": [
    "Same thing works with tuples as well."
   ]
  },
  {
   "cell_type": "code",
   "execution_count": null,
   "metadata": {},
   "outputs": [],
   "source": [
    "students = ('Asya', 'Masha', 'Zeinab')\n",
    "print(*students, sep='; ') # print our students separated by `;`"
   ]
  },
  {
   "cell_type": "markdown",
   "metadata": {},
   "source": [
    " ## Concatenation of lists and tuples"
   ]
  },
  {
   "cell_type": "markdown",
   "metadata": {},
   "source": [
    "Remember that Python allows us to glue strings together. In a smart way it is called *concatenation*."
   ]
  },
  {
   "cell_type": "code",
   "execution_count": null,
   "metadata": {},
   "outputs": [],
   "source": [
    "a = 'Cat'\n",
    "b = 'Dog'\n",
    "print(f'Just a feline canine little - {a+b}')"
   ]
  },
  {
   "cell_type": "markdown",
   "metadata": {},
   "source": [
    "In the same way we can concatenate two lists. Let's glue together two shopping lists."
   ]
  },
  {
   "cell_type": "code",
   "execution_count": null,
   "metadata": {},
   "outputs": [],
   "source": [
    "# groceries\n",
    "shopping_list_1 = ['bread', 'milk', 'pelmeni']\n",
    "# household goods\n",
    "shopping_list_2 = ['washing powder', 'soap']\n",
    "\n",
    "# all purchases\n",
    "shopping_list_all = shopping_list_1 + shopping_list_2\n",
    "\n",
    "print(*shopping_list_all, sep=', ')"
   ]
  },
  {
   "cell_type": "markdown",
   "metadata": {},
   "source": [
    "The same would work with tuples."
   ]
  },
  {
   "cell_type": "code",
   "execution_count": null,
   "metadata": {},
   "outputs": [],
   "source": [
    "# groceries\n",
    "shopping_tuple_1 = ('bread', 'milk', 'pelmeni')\n",
    "# household goods\n",
    "shopping_tuple_2 = ('washing powder', 'soap')\n",
    "\n",
    "# all purchases\n",
    "all = shopping_tuple_1 + shopping_tuple_2\n",
    "print(*all, sep=', ')"
   ]
  },
  {
   "cell_type": "code",
   "execution_count": null,
   "metadata": {},
   "outputs": [],
   "source": []
  },
  {
   "cell_type": "code",
   "execution_count": null,
   "metadata": {},
   "outputs": [],
   "source": []
  },
  {
   "cell_type": "code",
   "execution_count": null,
   "metadata": {},
   "outputs": [],
   "source": []
  },
  {
   "cell_type": "code",
   "execution_count": null,
   "metadata": {},
   "outputs": [],
   "source": []
  },
  {
   "cell_type": "code",
   "execution_count": null,
   "metadata": {},
   "outputs": [],
   "source": []
  },
  {
   "cell_type": "markdown",
   "metadata": {},
   "source": [
    "## `In` operator"
   ]
  },
  {
   "cell_type": "markdown",
   "metadata": {},
   "source": [
    "In Python we can check if something belongs to a sequence via special `in` operator. Later we will see that `in` works not only with sequences."
   ]
  },
  {
   "cell_type": "code",
   "execution_count": null,
   "metadata": {},
   "outputs": [],
   "source": [
    "backpack = ['wallet', 'headphones', 'ID', 'laptop', 'book']\n",
    "print('headphones' in backpack) # checking if string `headphones` belongs to a list `backpack`?"
   ]
  },
  {
   "cell_type": "markdown",
   "metadata": {},
   "source": [
    "`In` operator returns a boolean value depending on whether our condition is True or not. Here we are checking a condition that *something belongs to a list*.\n",
    "\n",
    "Also we can use `in` with a logical `not` to check a condition that *something does not belong to a list*."
   ]
  },
  {
   "cell_type": "code",
   "execution_count": null,
   "metadata": {},
   "outputs": [],
   "source": [
    "backpack = ['wallet', 'headphones', 'ID', 'laptop', 'book']\n",
    "print('headphones' not in backpack)   # gives us False, 'headpones' belongs to `backpack`\n",
    "print('trasportation card' not in backpack)  # gives us False, 'transportation card' is not in `backpack`"
   ]
  },
  {
   "cell_type": "markdown",
   "metadata": {},
   "source": [
    "Since `in` opeator gives us a logical variable, we can use it within an `if-statement`.\n",
    "\n",
    "A statement `if ... in` could be written like this:\n",
    "\n",
    "    if <item to check> in <list, tuple or string>:\n",
    "        <instructions if an item belongs to a sequence>"
   ]
  },
  {
   "cell_type": "markdown",
   "metadata": {},
   "source": [
    "Let's check an example. On our way to the university let's listen to music if we've packed headphones or read the book if we have not."
   ]
  },
  {
   "cell_type": "code",
   "execution_count": null,
   "metadata": {},
   "outputs": [],
   "source": [
    "backpack = ['wallet', 'headphones', 'ID', 'laptop', 'book']\n",
    "\n",
    "if 'headphones' in backpack:\n",
    "    print('Listen to music')\n",
    "else:\n",
    "    print('Read a book')"
   ]
  },
  {
   "cell_type": "markdown",
   "metadata": {},
   "source": [
    "A statement `if ... not in` works vice versa:\n",
    "\n",
    "    if <item to check> not in <list, tuple or string>:\n",
    "        <instructions if an item does not belong to a sequence>\n",
    "\n",
    "Remember our example with breakfast when we've been talking about `if statements`. Let's change it to use with lists. Now we will not ask for a number of eggs, but will check if there are eggs in our list."
   ]
  },
  {
   "cell_type": "code",
   "execution_count": null,
   "metadata": {},
   "outputs": [],
   "source": [
    "fridge = input('What do we have in the fridge?').split()\n",
    "print(fridge) # printing the things that we have\n",
    "\n",
    "if \"eggs\" not in fridge:\n",
    "    print('Going to the cafe')\n",
    "else:\n",
    "    print('Cooking at home')"
   ]
  },
  {
   "cell_type": "markdown",
   "metadata": {},
   "source": [
    "The same statements would work with tuples and strings. Let's check that an inputted word contains a particular letter."
   ]
  },
  {
   "cell_type": "code",
   "execution_count": null,
   "metadata": {},
   "outputs": [],
   "source": [
    "word = input('Input an word: ')\n",
    "letter = input('Input a letter: ')\n",
    "if letter not in word: # if a letter does not belong to a word\n",
    "    print(f'\"{word}\" does not contain \"{letter}\" letter')\n",
    "else:\n",
    "    print(f'\"{word}\" contains \"{letter}\" letter')"
   ]
  },
  {
   "cell_type": "markdown",
   "metadata": {},
   "source": [
    "Let's check that it works for tuples as well. Our program will check if the item is in the shopping list or not."
   ]
  },
  {
   "cell_type": "code",
   "execution_count": null,
   "metadata": {},
   "outputs": [],
   "source": [
    "shopping_tuple = ('bread', 'milk', 'pelmeni')\n",
    "thing = input('What to check? ')\n",
    "\n",
    "if thing in shopping_tuple: # if list contains this element\n",
    "    print('Didn\\'t forget!')\n",
    "else:\n",
    "    print('Forgot :(')"
   ]
  },
  {
   "cell_type": "markdown",
   "metadata": {},
   "source": [
    "Let's make it more complex. Now we will check several items until the user inputs an 'end' string."
   ]
  },
  {
   "cell_type": "code",
   "execution_count": null,
   "metadata": {},
   "outputs": [],
   "source": [
    "shopping_tuple = ('bread', 'milk', 'pelmeni')\n",
    "thing = input('What to check? ')\n",
    "while thing != 'end':  # our criteria to exit the loop\n",
    "    if thing in shopping_tuple:\n",
    "        print('Didn\\'t forget!')\n",
    "    else:\n",
    "        print('Forgot :(')\n",
    "    thing = input('What to check? ')"
   ]
  },
  {
   "cell_type": "code",
   "execution_count": null,
   "metadata": {},
   "outputs": [],
   "source": []
  },
  {
   "cell_type": "code",
   "execution_count": null,
   "metadata": {},
   "outputs": [],
   "source": []
  },
  {
   "cell_type": "code",
   "execution_count": null,
   "metadata": {},
   "outputs": [],
   "source": []
  },
  {
   "cell_type": "code",
   "execution_count": null,
   "metadata": {},
   "outputs": [],
   "source": []
  },
  {
   "cell_type": "code",
   "execution_count": null,
   "metadata": {},
   "outputs": [],
   "source": []
  },
  {
   "cell_type": "markdown",
   "metadata": {},
   "source": [
    "## `For` loop"
   ]
  },
  {
   "cell_type": "markdown",
   "metadata": {},
   "source": [
    "Let's go back to our shopping list."
   ]
  },
  {
   "cell_type": "code",
   "execution_count": null,
   "metadata": {},
   "outputs": [],
   "source": [
    "shopping_list = ['bread', 'milk', 'pelmeni']\n",
    "print('We need to buy:', *shopping_list) # Prints the elements of the list."
   ]
  },
  {
   "cell_type": "markdown",
   "metadata": {},
   "source": [
    "Ok, via `*` operator we can print elements in our list. But what if we want to perform the same instruction to all elements within a list? E.g. to print a string 'We need to buy <item>' for each item in our shopping list."
   ]
  },
  {
   "cell_type": "code",
   "execution_count": null,
   "metadata": {},
   "outputs": [],
   "source": [
    "print(f'We need to buy: {shopping_list[0]}')\n",
    "print(f'We need to buy: {shopping_list[1]}')\n",
    "print(f'We need to buy: {shopping_list[2]}')"
   ]
  },
  {
   "cell_type": "markdown",
   "metadata": {},
   "source": [
    "Even with three elements it looks like too much of work. But what if we have hundreds of elements?"
   ]
  },
  {
   "cell_type": "markdown",
   "metadata": {},
   "source": [
    "Like it is often a case in Python, there is a tool which will help us to deal with a situation like this. We can use `for` loop to go through list's elements:"
   ]
  },
  {
   "cell_type": "markdown",
   "metadata": {},
   "source": [
    "    for <item> in <list, tuple or string>:\n",
    "        <instructions to perform on item>"
   ]
  },
  {
   "cell_type": "code",
   "execution_count": null,
   "metadata": {},
   "outputs": [],
   "source": [
    "shopping_list = ['bread', 'milk', 'pelmeni']\n",
    "\n",
    "for thing in shopping_list:\n",
    "# go through `shopping_list` and copy each object to a `thing` variable:\n",
    "    print(thing) # print contents of `thing` variable"
   ]
  },
  {
   "cell_type": "markdown",
   "metadata": {},
   "source": [
    "`for` loop creates a variable (`thing` in our example). This variable may be called anything. This variable is created withing a loop but exists outside it as well. In our case `thing` will contain the last item that was assigned to it. Let's check it!"
   ]
  },
  {
   "cell_type": "code",
   "execution_count": null,
   "metadata": {},
   "outputs": [],
   "source": [
    "print(thing) # checking what is inside `thing` variable"
   ]
  },
  {
   "cell_type": "markdown",
   "metadata": {},
   "source": [
    "Don't be surprised if you see two `for` loops in a row where the variable is called the same. Usually it is a technical variable and there is no much use for it outside of a loop."
   ]
  },
  {
   "cell_type": "markdown",
   "metadata": {},
   "source": [
    "Of course we can do something more interesting then just printing things. Let's enumerate our shopping list."
   ]
  },
  {
   "cell_type": "code",
   "execution_count": null,
   "metadata": {},
   "outputs": [],
   "source": [
    "shopping_list = ['bread', 'milk', 'pelmeni']\n",
    "\n",
    "number = 1 # creating a variable with an index\n",
    "for thing in shopping_list:\n",
    "    print(number, thing) # printing an index and an item\n",
    "    number += 1 # updating an index by 1"
   ]
  },
  {
   "cell_type": "markdown",
   "metadata": {},
   "source": [
    "`For` loop works not only with lists. We can also use it for strings and tuples. And later we will learn about other data types where it can be also applied."
   ]
  },
  {
   "cell_type": "code",
   "execution_count": null,
   "metadata": {},
   "outputs": [],
   "source": []
  },
  {
   "cell_type": "code",
   "execution_count": null,
   "metadata": {},
   "outputs": [],
   "source": []
  },
  {
   "cell_type": "code",
   "execution_count": null,
   "metadata": {},
   "outputs": [],
   "source": []
  },
  {
   "cell_type": "code",
   "execution_count": null,
   "metadata": {},
   "outputs": [],
   "source": []
  },
  {
   "cell_type": "markdown",
   "metadata": {},
   "source": [
    "# Nested `for` loops"
   ]
  },
  {
   "cell_type": "markdown",
   "metadata": {},
   "source": [
    "Sometimes we need to go through two lists simultaneously. E.g. let's print a part of a multiplication table for number 2, 3 and 4.\n",
    "\n",
    "* We will first go through the list of [2, 3, 4]\n",
    "* For each of the number in our list we will multiply it by numbers from 1 to 9."
   ]
  },
  {
   "cell_type": "code",
   "execution_count": null,
   "metadata": {},
   "outputs": [],
   "source": [
    "for a in [2,3,4]:\n",
    "    for b in range(1,10):\n",
    "        print(f'{a}*{b} = {a*b}')\n",
    "    print('-'*10) # printing an end-line for the multiplications for the given number\n",
    "    break   # Let's exit a loop for now after we finish multiplying by 2"
   ]
  },
  {
   "cell_type": "markdown",
   "metadata": {},
   "source": [
    "So, what has happened? Integer 2 was assigned to a variable `a`. Then we've started the second loop, where we had multiplied contents of `a` variable by all numbers in an interval from 1 to 9. Then we've printed ten dashes to indicate that we had finished with that number.\n",
    "\n",
    "If we were not to exit our loop via break, it would do the same for 3 and then for 4."
   ]
  },
  {
   "cell_type": "code",
   "execution_count": null,
   "metadata": {},
   "outputs": [],
   "source": [
    "for a in [2,3,4]:\n",
    "    for b in range(1,10):\n",
    "        print(f'{a}*{b} = {a*b}')\n",
    "    print('-'*10)"
   ]
  },
  {
   "cell_type": "markdown",
   "metadata": {},
   "source": [
    "Nested loops might be useful not only in problems with numbers. Let's print a party invitation for several students."
   ]
  },
  {
   "cell_type": "code",
   "execution_count": null,
   "metadata": {},
   "outputs": [],
   "source": [
    "students = ('Anna', 'Dima', 'Shushanik', 'Yu Na') # tuple of our students\n",
    "date = input('Date: ')\n",
    "time = input('Time: ')\n",
    "\n",
    "for name in students: # for each student print the following invintation\n",
    "    print(f'Hi, {name}!\\nYou are invited to a party on {date} at {time}. Waiting for you!\\n\\n')"
   ]
  },
  {
   "cell_type": "markdown",
   "metadata": {},
   "source": [
    "Now imagine that we want print that invitation in Russian as well. Let's create a tuple with two invitation texts."
   ]
  },
  {
   "cell_type": "code",
   "execution_count": null,
   "metadata": {},
   "outputs": [],
   "source": [
    "students = ('Anna', 'Dima', 'Shushanik', 'Yu Na') # tuple of our students\n",
    "date = input('Date: ')\n",
    "time = input('Time: ')\n",
    "\n",
    "for name in students:\n",
    "    texts = (f'Hi, {name}!\\nYou are invited to a party on {date} at {time}. Waiting for you!\\n\\n',\n",
    "             f'Привет, {name}!\\nВечеринка пройдет {date} в {time}. Очень ждем!\\n\\n')\n",
    "    for text in texts: # for each student print each invitation\n",
    "        print(text)"
   ]
  },
  {
   "cell_type": "markdown",
   "metadata": {},
   "source": [
    "Sometimes there are also situations when we need `for in range()` to connect three sequences. Imagine that we want to print a receipt in a book store. We have a list of prices for the purchased books, titles for those books and, finally, quantities."
   ]
  },
  {
   "cell_type": "code",
   "execution_count": null,
   "metadata": {},
   "outputs": [],
   "source": [
    "prices = [422, 382, 3544]\n",
    "goods = ['Harry Potter and FOR Loop', 'X-Men against Doctor Tuple', 'Learning Python. Vol.1']\n",
    "amount = [1, 1, 3]\n",
    "for i in range(len(goods)):\n",
    "    print(f\"{goods[i]}\\n{amount[i]} x {prices[i]}\")\n",
    "    print(f\"Total: {amount[i] * prices[i]} ₽\")"
   ]
  },
  {
   "cell_type": "code",
   "execution_count": null,
   "metadata": {},
   "outputs": [],
   "source": []
  },
  {
   "cell_type": "code",
   "execution_count": null,
   "metadata": {},
   "outputs": [],
   "source": []
  },
  {
   "cell_type": "code",
   "execution_count": null,
   "metadata": {},
   "outputs": [],
   "source": []
  },
  {
   "cell_type": "code",
   "execution_count": null,
   "metadata": {},
   "outputs": [],
   "source": []
  },
  {
   "cell_type": "code",
   "execution_count": null,
   "metadata": {},
   "outputs": [],
   "source": []
  },
  {
   "cell_type": "markdown",
   "metadata": {},
   "source": [
    "# Exercise 1"
   ]
  },
  {
   "cell_type": "markdown",
   "metadata": {},
   "source": [
    "Write a Python program to test whether a number is within 100 of 1000 or 2000."
   ]
  },
  {
   "cell_type": "code",
   "execution_count": null,
   "metadata": {},
   "outputs": [],
   "source": [
    "<YOUR CODE>"
   ]
  },
  {
   "cell_type": "markdown",
   "metadata": {},
   "source": [
    "# Exercise 2:\n",
    "\n",
    "Write a Python program to calculate the difference between a given number and 17. If the number is greater than 17, return twice the absolute difference."
   ]
  },
  {
   "cell_type": "code",
   "execution_count": null,
   "metadata": {},
   "outputs": [],
   "source": [
    "<YOUR CODE>"
   ]
  },
  {
   "cell_type": "markdown",
   "metadata": {},
   "source": [
    "# Exercise 3:\n",
    "\n",
    "Write a Python program to calculate the sum of three given numbers. If the values are equal, return three times their sum."
   ]
  },
  {
   "cell_type": "code",
   "execution_count": null,
   "metadata": {},
   "outputs": [],
   "source": [
    "<YOUR CODE>"
   ]
  },
  {
   "cell_type": "markdown",
   "metadata": {},
   "source": [
    "# Exercise 4:\n",
    "\n",
    "Write a Python program which checks a text, if the length of the text is greater or equal to two, and the first two letters are \"Is\" just return the text. If not, add \"Is\" infront of the string and return the result."
   ]
  },
  {
   "cell_type": "code",
   "execution_count": null,
   "metadata": {},
   "outputs": [],
   "source": [
    "<YOUR CODE>"
   ]
  },
  {
   "cell_type": "markdown",
   "metadata": {},
   "source": [
    "# Exercise 5:\n",
    "\n",
    "Write a Python program that returns a string that is n (non-negative integer) copies of a given str"
   ]
  },
  {
   "cell_type": "code",
   "execution_count": null,
   "metadata": {},
   "outputs": [],
   "source": [
    "<YOUR CODE>"
   ]
  },
  {
   "cell_type": "markdown",
   "metadata": {},
   "source": [
    "# Exercise 6:\n",
    "\n",
    "Write a Python program that determines whether a given number (accepted from the user) is even or odd, and prints an appropriate message to the user."
   ]
  },
  {
   "cell_type": "code",
   "execution_count": null,
   "metadata": {},
   "outputs": [],
   "source": [
    "<YOUR CODE>"
   ]
  },
  {
   "cell_type": "markdown",
   "metadata": {},
   "source": [
    "# Exercise 7:\n",
    "\n",
    "Write a Python program to count the number 5 in a given list."
   ]
  },
  {
   "cell_type": "code",
   "execution_count": null,
   "metadata": {},
   "outputs": [],
   "source": [
    "<YOUR CODE>"
   ]
  },
  {
   "cell_type": "markdown",
   "metadata": {},
   "source": [
    "# Exercise 8:\n",
    "\n",
    "Write a Python program to find the median of three values."
   ]
  },
  {
   "cell_type": "code",
   "execution_count": null,
   "metadata": {},
   "outputs": [],
   "source": [
    "<YOUR CODE>"
   ]
  },
  {
   "cell_type": "markdown",
   "metadata": {},
   "source": [
    "# Exercise 9:\n",
    "\n",
    "Write a Python program to calculate the sum and average of n integer numbers (input from the user). Input 0 to finish."
   ]
  },
  {
   "cell_type": "code",
   "execution_count": null,
   "metadata": {},
   "outputs": [],
   "source": [
    "<YOUR CODE>"
   ]
  },
  {
   "cell_type": "markdown",
   "metadata": {},
   "source": [
    "# Exercise 10:\n",
    "\n",
    "Write a Python program to get the largest number from a list."
   ]
  },
  {
   "cell_type": "code",
   "execution_count": null,
   "metadata": {},
   "outputs": [],
   "source": [
    "<YOUR CODE>"
   ]
  },
  {
   "cell_type": "markdown",
   "metadata": {},
   "source": [
    "# Exercise 11:\n",
    "\n",
    "Write a Python program to get the smallest number from a list."
   ]
  },
  {
   "cell_type": "code",
   "execution_count": null,
   "metadata": {},
   "outputs": [],
   "source": [
    "<YOUR CODE>"
   ]
  },
  {
   "cell_type": "markdown",
   "metadata": {},
   "source": [
    "# Exercise 12:\n",
    "\n",
    "Write a Python program to get a list, sorted in increasing order by the last element in each tuple from a given list of non-empty tuples.\n",
    "\n",
    "> Sample List : [(2, 5), (1, 2), (4, 4), (2, 3), (2, 1)]\n",
    "\n",
    "> Expected Result : [(2, 1), (1, 2), (2, 3), (4, 4), (2, 5)]"
   ]
  },
  {
   "cell_type": "code",
   "execution_count": null,
   "metadata": {},
   "outputs": [],
   "source": [
    "<YOUR CODE>"
   ]
  },
  {
   "cell_type": "markdown",
   "metadata": {},
   "source": [
    "# Exercise 13:\n",
    "\n",
    "Write a Python program to remove duplicates from a list."
   ]
  },
  {
   "cell_type": "code",
   "execution_count": null,
   "metadata": {},
   "outputs": [],
   "source": [
    "<YOUR CODE>"
   ]
  },
  {
   "cell_type": "markdown",
   "metadata": {},
   "source": [
    "# Exercise 14:\n",
    "\n",
    "Write a Python program to find the list of words that are longer than `n` from a given list of words."
   ]
  },
  {
   "cell_type": "code",
   "execution_count": null,
   "metadata": {},
   "outputs": [],
   "source": [
    "<YOUR CODE>"
   ]
  },
  {
   "cell_type": "markdown",
   "metadata": {},
   "source": [
    "# Exercise 15:\n",
    "\n",
    "Write a Python function that takes two lists and returns True if they have at least one common member."
   ]
  },
  {
   "cell_type": "code",
   "execution_count": null,
   "metadata": {},
   "outputs": [],
   "source": [
    "<YOUR CODE>"
   ]
  },
  {
   "cell_type": "code",
   "execution_count": null,
   "metadata": {},
   "outputs": [],
   "source": []
  }
 ],
 "metadata": {
  "colab": {
   "provenance": []
  },
  "kernelspec": {
   "display_name": "Python 3 (ipykernel)",
   "language": "python",
   "name": "python3"
  },
  "language_info": {
   "codemirror_mode": {
    "name": "ipython",
    "version": 3
   },
   "file_extension": ".py",
   "mimetype": "text/x-python",
   "name": "python",
   "nbconvert_exporter": "python",
   "pygments_lexer": "ipython3",
   "version": "3.10.9"
  }
 },
 "nbformat": 4,
 "nbformat_minor": 1
}
