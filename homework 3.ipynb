{
 "cells": [
  {
   "cell_type": "code",
   "execution_count": 2,
   "id": "f511d996-d0cb-4d71-97be-7a132579f0d5",
   "metadata": {},
   "outputs": [
    {
     "name": "stdout",
     "output_type": "stream",
     "text": [
      "Exchange rate difference between 01-02-2024 and 07-03-2024: 1.09 RUB\n",
      "Duration between dates: 5 weeks\n",
      "Kazan Bank -> Net Profit per RUB: 0.1381\n",
      "Sber Bank -> Net Profit per RUB: 0.1382\n",
      "JSC VTB -> Net Profit per RUB: 0.1368\n",
      "Fora Bank -> Net Profit per RUB: 0.1380\n",
      "The most profitable bank is Sber Bank with a profit margin of 0.1382 RUB per RUB spent.\n"
     ]
    }
   ],
   "source": [
    "import requests\n",
    "from datetime import datetime\n",
    "\n",
    "\n",
    "def get_exchange_rate(base_currency, target_currency, date):\n",
    "    url = f\"https://www.cbr.ru/scripts/XML_daily.asp?date_req={date.strftime('%d/%m/%Y')}\"\n",
    "    response = requests.get(url)\n",
    "    if response.status_code == 200:\n",
    "        data = response.text\n",
    "        if base_currency == \"EUR\" and target_currency == \"RUB\":\n",
    "            return extract_rate(data, \"EUR\")  # Extract EUR to RUB rate\n",
    "        elif base_currency == \"USD\" and target_currency == \"RUB\":\n",
    "            return extract_rate(data, \"USD\")  # Extract USD to RUB rate\n",
    "        elif base_currency == \"AED\" and target_currency == \"RUB\":\n",
    "            return extract_rate(data, \"AED\")  # Extract AED to RUB rate\n",
    "    return None\n",
    "\n",
    "\n",
    "def extract_rate(data, currency_code):\n",
    "    start_index = data.find(currency_code)\n",
    "    if start_index != -1:\n",
    "        rate_start = data.find(\"<Value>\", start_index) + len(\"<Value>\")\n",
    "        rate_end = data.find(\"</Value>\", rate_start)\n",
    "        return float(data[rate_start:rate_end].replace(\",\", \".\"))\n",
    "    return None\n",
    "    \n",
    "def currency_converter():\n",
    "    amount = float(input(\"Enter the amount: \"))\n",
    "    from_currency = input(\"Enter the currency you want to convert from (USD, RUB, EUR, AED): \").upper()\n",
    "    to_currency = input(\"Enter the currency you want to convert to (USD, RUB, EUR, AED): \").upper()\n",
    "    \n",
    "    date = datetime.today()\n",
    "    exchange_rate = get_exchange_rate(from_currency, to_currency, date)\n",
    "    \n",
    "    if exchange_rate:\n",
    "        converted_amount = amount * exchange_rate\n",
    "        print(f\"{amount} {from_currency} is equivalent to {converted_amount:.2f} {to_currency} as per CBR exchange rate.\")\n",
    "    else:\n",
    "        print(\"Exchange rate not available for the selected currency pair.\")\n",
    "\n",
    "# Task 2: \n",
    "date1 = datetime(2024, 2, 1)\n",
    "date2 = datetime(2024, 3, 7)\n",
    "rate1 = get_exchange_rate(\"EUR\", \"RUB\", date1)\n",
    "rate2 = get_exchange_rate(\"EUR\", \"RUB\", date2)\n",
    "\n",
    "if rate1 and rate2:\n",
    "    rate_diff = rate2 - rate1\n",
    "    time_diff = (date2 - date1).days // 7  # Duration in weeks\n",
    "    print(f\"Exchange rate difference between {date1.strftime('%d-%m-%Y')} and {date2.strftime('%d-%m-%Y')}: {rate_diff:.2f} RUB\")\n",
    "    print(f\"Duration between dates: {time_diff} weeks\")\n",
    "\n",
    "# Task 3: \n",
    "\n",
    "rub_amount = 50000\n",
    "usd_rate_moscow = get_exchange_rate(\"RUB\", \"USD\", datetime.today())\n",
    "aed_rate_dubai = get_exchange_rate(\"USD\", \"AED\", datetime.today())\n",
    "\n",
    "if usd_rate_moscow and aed_rate_dubai:\n",
    "    usd_amount = rub_amount / usd_rate_moscow * (1 - 0.0012)  # After buy commission\n",
    "    aed_amount = usd_amount * aed_rate_dubai * (1 - 0.0015)  # After sell commission\n",
    "    print(f\"Final amount in AED after conversion: {aed_amount:.2f} AED\")\n",
    "\n",
    "# Task 4:\n",
    "banks = {\n",
    "    \"Kazan Bank\": {\"buy_commission\": 0.00122, \"sell_commission\": 0.00221},\n",
    "    \"Sber Bank\": {\"buy_commission\": 0.00131, \"sell_commission\": 0.00202},\n",
    "    \"JSC VTB\": {\"buy_commission\": 0.00174, \"sell_commission\": 0.00280},\n",
    "    \"Fora Bank\": {\"buy_commission\": 0.00156, \"sell_commission\": 0.00192},\n",
    "}\n",
    "\n",
    "usd_rate_buy = 81\n",
    "usd_rate_sell = 92.5\n",
    "best_bank = None\n",
    "max_profit = float('-inf')\n",
    "\n",
    "for bank, fees in banks.items():\n",
    "    usd_bought = (1 / usd_rate_buy) * (1 - fees[\"buy_commission\"])  # USD bought per RUB\n",
    "    rub_received = usd_bought * usd_rate_sell * (1 - fees[\"sell_commission\"])  # RUB received per USD\n",
    "    profit = rub_received - 1  # Net gain per RUB spent\n",
    "    \n",
    "    print(f\"{bank} -> Net Profit per RUB: {profit:.4f}\")\n",
    "    \n",
    "    if profit > max_profit:\n",
    "        max_profit = profit\n",
    "        best_bank = bank\n",
    "\n",
    "print(f\"The most profitable bank is {best_bank} with a profit margin of {max_profit:.4f} RUB per RUB spent.\")\n",
    "\n"
   ]
  },
  {
   "cell_type": "code",
   "execution_count": 4,
   "id": "fd4d3dd6-045d-44da-8225-6f4f65eff481",
   "metadata": {},
   "outputs": [
    {
     "name": "stdout",
     "output_type": "stream",
     "text": [
      "Welcome to the shopping list program!\n",
      "Available items: apple, banana, orange, grapes, pear, mango\n",
      "Enter 'done' when you have finished adding items.\n",
      "\n"
     ]
    },
    {
     "name": "stdin",
     "output_type": "stream",
     "text": [
      "Enter an item you want to buy:  apple, banana\n"
     ]
    },
    {
     "name": "stdout",
     "output_type": "stream",
     "text": [
      "Sorry, apple, banana is not available in the inventory.\n"
     ]
    },
    {
     "name": "stdin",
     "output_type": "stream",
     "text": [
      "Enter an item you want to buy:  apple\n",
      "Enter an item you want to buy:  banana\n",
      "Enter an item you want to buy:  done\n"
     ]
    },
    {
     "name": "stdout",
     "output_type": "stream",
     "text": [
      "\n",
      "Your sorted shopping list:\n",
      "- apple\n",
      "- banana\n"
     ]
    }
   ],
   "source": [
    "inventory = {\n",
    "    'apple': 10,\n",
    "    'banana': 5,\n",
    "    'orange': 8,\n",
    "    'grapes': 3,\n",
    "    'pear': 7,\n",
    "    'mango': 6\n",
    "}\n",
    "\n",
    "shopping_list = []\n",
    "\n",
    "print(\"Welcome! here are the available items!\")\n",
    "print(\"Available items:\", \", \".join(inventory.keys()))\n",
    "print(\"Enter 'done' when you have finished adding items.\\n\")\n",
    "\n",
    "while True:\n",
    "    item = input(\"Enter an item you want to buy: \").lower()\n",
    "    \n",
    "    if item == 'done':\n",
    "        break  # Exit when the user is done\n",
    "    \n",
    "    if item in inventory:\n",
    "        shopping_list.append(item)\n",
    "    else:\n",
    "        print(f\"Sorry, {item} is not available in the inventory.\")\n",
    "\n",
    "shopping_list.sort()\n",
    "\n",
    "if shopping_list:\n",
    "    print(\"\\nYour sorted shopping list:\")\n",
    "    for item in shopping_list:\n",
    "        print(f\"- {item}\")\n",
    "else:\n",
    "    print(\"\\nYour shopping list is empty.\")\n"
   ]
  },
  {
   "cell_type": "code",
   "execution_count": 6,
   "id": "8608ec35-b5d7-4133-b41b-dc0cd60c58be",
   "metadata": {},
   "outputs": [
    {
     "name": "stdin",
     "output_type": "stream",
     "text": [
      "Enter text:  okay\n"
     ]
    },
    {
     "name": "stdout",
     "output_type": "stream",
     "text": [
      "\n",
      "Word Frequency: {'okay': 1}\n",
      "\n",
      "Most Frequent Word: 'okay' appears 1 times.\n"
     ]
    }
   ],
   "source": [
    "text = input(\"Enter text: \").lower()\n",
    "words = text.split()\n",
    "word_counts = {word: words.count(word) for word in set(words)}\n",
    "\n",
    "most_frequent = max(word_counts, key=word_counts.get)\n",
    "\n",
    "print(\"\\nWord Frequency:\", word_counts)\n",
    "print(f\"\\nMost Frequent Word: '{most_frequent}' appears {word_counts[most_frequent]} times.\")"
   ]
  },
  {
   "cell_type": "code",
   "execution_count": null,
   "id": "5c014ea8-bf64-4f9b-bcad-d809a83ec33c",
   "metadata": {},
   "outputs": [],
   "source": [
    "hour, minute, second = map(int, input(\"Enter timestamp (hour, minute, second) separated by commas: \").split(','))\n",
    "\n",
    "total_seconds = hour * 3600 + minute * 60 + second\n",
    "\n",
    "print(f\"Timestamp: {hour}:{minute}:{second}\")\n",
    "print(f\"Total seconds: {total_seconds}\")\n"
   ]
  }
 ],
 "metadata": {
  "kernelspec": {
   "display_name": "Python [conda env:base] *",
   "language": "python",
   "name": "conda-base-py"
  },
  "language_info": {
   "codemirror_mode": {
    "name": "ipython",
    "version": 3
   },
   "file_extension": ".py",
   "mimetype": "text/x-python",
   "name": "python",
   "nbconvert_exporter": "python",
   "pygments_lexer": "ipython3",
   "version": "3.12.7"
  }
 },
 "nbformat": 4,
 "nbformat_minor": 5
}
